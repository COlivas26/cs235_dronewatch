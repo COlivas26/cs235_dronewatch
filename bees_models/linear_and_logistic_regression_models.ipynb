{
 "cells": [
  {
   "cell_type": "markdown",
   "metadata": {},
   "source": [
    "# Application of Linear Regression and Logistic Regression models of Bee Mating Flight Patterns"
   ]
  },
  {
   "cell_type": "code",
   "execution_count": 58,
   "metadata": {},
   "outputs": [],
   "source": [
    "import numpy as np\n",
    "import pandas as pd\n",
    "import matplotlib.pyplot as plt\n",
    "from mpl_toolkits.mplot3d import Axes3D\n",
    "from sklearn.model_selection import train_test_split\n",
    "from sklearn.metrics import confusion_matrix, f1_score\n",
    "from sklearn.utils import resample\n",
    "from imblearn.over_sampling import SMOTE\n",
    "\n",
    "from models.lin_reg import LinearRegression as ScratchLinearRegression\n",
    "from models.log_reg import LogisticRegression as ScratchLogisticRegression"
   ]
  },
  {
   "cell_type": "code",
   "execution_count": 59,
   "metadata": {},
   "outputs": [],
   "source": [
    "log_reg_data = pd.read_csv(\"logRegressionData.csv\")\n",
    "log_reg_data = log_reg_data.loc[log_reg_data.apply(lambda x: 60 < x['flight_duration'] < 23400, axis=1)]\n",
    "log_X = log_reg_data.iloc[:, 1:-1]\n",
    "log_y = log_reg_data.iloc[:, -1]"
   ]
  },
  {
   "cell_type": "markdown",
   "metadata": {},
   "source": [
    "A 60-20-20 split was applied to the data to get the training, validation, and testing data sets.  "
   ]
  },
  {
   "cell_type": "code",
   "execution_count": 60,
   "metadata": {},
   "outputs": [],
   "source": [
    "# split the data into train and test sets\n",
    "X_train_log, X_test_log, y_train_log, y_test_log = train_test_split(log_X, log_y, test_size=0.2, random_state=42)\n",
    "\n",
    "# split the training data into train and validation sets\n",
    "X_train_log, X_val_log, y_train_log, y_val_log = train_test_split(X_train_log, y_train_log, test_size=0.25, random_state=42)"
   ]
  },
  {
   "cell_type": "code",
   "execution_count": 61,
   "metadata": {},
   "outputs": [],
   "source": [
    "# apply the Logistic Regression model\n",
    "logistic_reg = ScratchLogisticRegression()\n",
    "logistic_reg.train(X_train_log, y_train_log)"
   ]
  },
  {
   "cell_type": "code",
   "execution_count": 62,
   "metadata": {},
   "outputs": [
    {
     "data": {
      "image/png": "[encoded data removed]",
      "text/plain": [
       "<Figure size 432x288 with 1 Axes>"
      ]
     },
     "metadata": {
      "needs_background": "light"
     },
     "output_type": "display_data"
    }
   ],
   "source": [
    "# show plot of convergence of costs when calculating theta\n",
    "log_costs = logistic_reg.cal_costs()\n",
    "plt.plot(range(len(log_costs)), log_costs)\n",
    "plt.title('Convergence of cost function')\n",
    "plt.xlabel('iteration')\n",
    "plt.ylabel('cost')\n",
    "plt.show()"
   ]
  },
  {
   "cell_type": "code",
   "execution_count": 63,
   "metadata": {},
   "outputs": [
    {
     "name": "stdout",
     "output_type": "stream",
     "text": [
      "Prediction accuracy of validation set: 90.801187\n",
      "F1 Score of validation set: 0.864235\n",
      "Confusion Matrix of validation set:\n",
      "[[  0  31]\n",
      " [  0 306]]\n"
     ]
    },
    {
     "name": "stderr",
     "output_type": "stream",
     "text": [
      "C:\\Anaconda3\\lib\\site-packages\\sklearn\\metrics\\classification.py:1437: UndefinedMetricWarning: F-score is ill-defined and being set to 0.0 in labels with no predicted samples.\n",
      "  'precision', 'predicted', average, warn_for)\n"
     ]
    }
   ],
   "source": [
    "# check model against the validation set\n",
    "y_pred_log_val = logistic_reg.predict(X_val_log)\n",
    "accuracy = logistic_reg.accuracy(y_pred_log_val, y_val_log)\n",
    "print('Prediction accuracy of validation set: %f' % accuracy)\n",
    "log_conf_mtx = confusion_matrix(y_val_log, y_pred_log_val)\n",
    "logreg_f1_score = f1_score(y_val_log, y_pred_log_val, average='weighted')\n",
    "print('F1 Score of validation set: %f' % logreg_f1_score)\n",
    "print('Confusion Matrix of validation set:')\n",
    "print(log_conf_mtx)"
   ]
  },
  {
   "cell_type": "markdown",
   "metadata": {},
   "source": [
    "Using resample "
   ]
  },
  {
   "cell_type": "code",
   "execution_count": 110,
   "metadata": {},
   "outputs": [
    {
     "name": "stdout",
     "output_type": "stream",
     "text": [
      "Prediction accuracy of validation set: 64.391691\n",
      "F1 Score of validation set: 0.718970\n",
      "Confusion Matrix of validation set:\n",
      "[[ 19  12]\n",
      " [108 198]]\n"
     ]
    }
   ],
   "source": [
    "log_train_data = X_train_log\n",
    "log_train_data['gbd'] = y_train_log\n",
    "bad_day = log_train_data.loc[log_train_data.apply(lambda x: x['gbd'] == 0, axis=1)]\n",
    "good_day = log_train_data.loc[log_train_data.apply(lambda x: x['gbd'] == 1, axis=1)]\n",
    "bad_day_upsample = resample(bad_day, replace=True, n_samples=(int)(len(good_day)*0.62), random_state=42)\n",
    "log_train_data_upsampled = pd.concat([good_day, bad_day_upsample])\n",
    "X_train_log_upsample = log_train_data_upsampled.iloc[:, :-1]\n",
    "y_train_log_upsample = log_train_data_upsampled.iloc[:, -1]\n",
    "\n",
    "# apply the Logistic Regression model\n",
    "logistic_reg.train(X_train_log_upsample, y_train_log_upsample)\n",
    "\n",
    "# check model against the validation set\n",
    "y_pred_log_val = logistic_reg.predict(X_val_log)\n",
    "accuracy = logistic_reg.accuracy(y_pred_log_val, y_val_log)\n",
    "print('Prediction accuracy of validation set: %f' % accuracy)\n",
    "log_conf_mtx = confusion_matrix(y_val_log, y_pred_log_val)\n",
    "logreg_f1_score = f1_score(y_val_log, y_pred_log_val, average='weighted')\n",
    "print('F1 Score of validation set: %f' % logreg_f1_score)\n",
    "print('Confusion Matrix of validation set:')\n",
    "print(log_conf_mtx)"
   ]
  },
  {
   "cell_type": "code",
   "execution_count": 111,
   "metadata": {},
   "outputs": [
    {
     "name": "stdout",
     "output_type": "stream",
     "text": [
      "Prediction accuracy of test set: 67.062315\n",
      "F1 Score of test set: 0.736769\n",
      "Confusion Matrix of test set:\n",
      "[[ 21  12]\n",
      " [ 99 205]]\n",
      "\n"
     ]
    }
   ],
   "source": [
    "# check model against the test set\n",
    "y_pred_log = logistic_reg.predict(X_test_log)\n",
    "accuracy = logistic_reg.accuracy(y_pred_log, y_test_log)\n",
    "print('Prediction accuracy of test set: %f' % accuracy)\n",
    "log_conf_mtx = confusion_matrix(y_test_log, y_pred_log)\n",
    "logreg_f1_score = f1_score(y_test_log, y_pred_log, average='weighted')\n",
    "print('F1 Score of test set: %f' % logreg_f1_score)\n",
    "print('Confusion Matrix of test set:')\n",
    "print(log_conf_mtx)\n",
    "print()"
   ]
  },
  {
   "cell_type": "markdown",
   "metadata": {},
   "source": [
    "While the prediction accuracy score and the F1 score look like good numbers, if we take a look at the confusion matrix, we can see that all bad days were incorrectly predicted as good days. This can be partially attributed to the major class imbalance in the data set. We'll use the ibmlearn's implementation of SMOTE, synthetic minority oversampling technique, to try to fix this imbalance and hopefully get a more useful model. "
   ]
  },
  {
   "cell_type": "code",
   "execution_count": 94,
   "metadata": {},
   "outputs": [
    {
     "name": "stdout",
     "output_type": "stream",
     "text": [
      "Prediction accuracy of validation set: 63.798220\n",
      "F1 Score of validation set: 0.714339\n",
      "Confusion Matrix of validation set:\n",
      "[[ 19  12]\n",
      " [110 196]]\n"
     ]
    }
   ],
   "source": [
    "sm = SMOTE(sampling_strategy=.60, random_state=42)\n",
    "X_train_log_sm, y_train_log_sm = sm.fit_sample(X_train_log, y_train_log)\n",
    "\n",
    "# apply the Logistic Regression model\n",
    "logistic_reg.train(X_train_log_sm, y_train_log_sm)\n",
    "\n",
    "# check model against the validation set\n",
    "y_pred_log_val = logistic_reg.predict(X_val_log)\n",
    "accuracy = logistic_reg.accuracy(y_pred_log_val, y_val_log)\n",
    "print('Prediction accuracy of validation set: %f' % accuracy)\n",
    "log_conf_mtx = confusion_matrix(y_val_log, y_pred_log_val)\n",
    "logreg_f1_score = f1_score(y_val_log, y_pred_log_val, average='weighted')\n",
    "print('F1 Score of validation set: %f' % logreg_f1_score)\n",
    "print('Confusion Matrix of validation set:')\n",
    "print(log_conf_mtx)"
   ]
  },
  {
   "cell_type": "code",
   "execution_count": 95,
   "metadata": {},
   "outputs": [
    {
     "name": "stdout",
     "output_type": "stream",
     "text": [
      "Prediction accuracy of test set: 66.172107\n",
      "F1 Score of test set: 0.729749\n",
      "Confusion Matrix of test set:\n",
      "[[ 20  13]\n",
      " [101 203]]\n",
      "\n"
     ]
    }
   ],
   "source": [
    "# check model against the test set\n",
    "y_pred_log = logistic_reg.predict(X_test_log)\n",
    "accuracy = logistic_reg.accuracy(y_pred_log, y_test_log)\n",
    "print('Prediction accuracy of test set: %f' % accuracy)\n",
    "log_conf_mtx = confusion_matrix(y_test_log, y_pred_log)\n",
    "logreg_f1_score = f1_score(y_test_log, y_pred_log, average='weighted')\n",
    "print('F1 Score of test set: %f' % logreg_f1_score)\n",
    "print('Confusion Matrix of test set:')\n",
    "print(log_conf_mtx)\n",
    "print()"
   ]
  }
 ],
 "metadata": {
  "kernelspec": {
   "display_name": "Python 3",
   "language": "python",
   "name": "python3"
  },
  "language_info": {
   "codemirror_mode": {
    "name": "ipython",
    "version": 3
   },
   "file_extension": ".py",
   "mimetype": "text/x-python",
   "name": "python",
   "nbconvert_exporter": "python",
   "pygments_lexer": "ipython3",
   "version": "3.7.3"
  }
 },
 "nbformat": 4,
 "nbformat_minor": 2
}
